{
 "cells": [
  {
   "cell_type": "markdown",
   "id": "4d57fefd-d89f-4387-b445-57fa1c39e3a2",
   "metadata": {},
   "source": [
    "# Data Science Tools and Ecosystems"
   ]
  },
  {
   "cell_type": "markdown",
   "id": "3ee4f6ed-fe53-4f5a-b485-6ef65e591511",
   "metadata": {},
   "source": [
    "In this notebook, Data Science Tools and Ecosystems are summarized."
   ]
  },
  {
   "cell_type": "markdown",
   "id": "d596e6ae-4794-4558-b9f3-eb58523d5d8e",
   "metadata": {},
   "source": [
    "<b>Objectives:</b>"
   ]
  },
  {
   "cell_type": "markdown",
   "id": "6c08fb8a-32db-4cf4-a7ad-b4f050f589bf",
   "metadata": {},
   "source": [
    "+ Practice headings\n",
    "+ List popular languages for Data Science\n",
    "+ List some commonly used libraries that Data Scientist use\n",
    "+ Practice simple math equations"
   ]
  },
  {
   "cell_type": "code",
   "execution_count": null,
   "id": "ea4e3e67-8ea9-4217-9f5b-07df7ea10063",
   "metadata": {},
   "outputs": [],
   "source": [
    "Some of the most popular languages that Data Scientist use are:\n",
    "1. Python\n",
    "2. R\n",
    "3. Java"
   ]
  },
  {
   "cell_type": "code",
   "execution_count": null,
   "id": "9c9f835d-5a8c-4cd7-bc27-3ec6598f8196",
   "metadata": {},
   "outputs": [],
   "source": [
    "Some of the commonly used libraries used by Data Scientists include:\n",
    "1. Pandas\n",
    "2. Numpy\n",
    "3. Matplotlib"
   ]
  },
  {
   "cell_type": "markdown",
   "id": "99e79fa9-331a-40b3-b365-083306cc1cb7",
   "metadata": {},
   "source": [
    "| Data Science Tools |\n",
    "| -------- |\n",
    "| Pandas |\n",
    "| Hadoop |\n",
    "| Spark |"
   ]
  },
  {
   "cell_type": "markdown",
   "id": "c02bbf99-04fe-41d2-b875-6e855914731e",
   "metadata": {},
   "source": [
    "### Below are a few examples of evaluating arithmetic expressions in Python:"
   ]
  },
  {
   "cell_type": "markdown",
   "id": "2c1ab415-79e3-4b72-8764-f39826364e89",
   "metadata": {},
   "source": [
    "This is a simple arthimetic expression to multiply and add integers. "
   ]
  },
  {
   "cell_type": "code",
   "execution_count": 5,
   "id": "797b9db8-10a9-43d5-85f1-53d02a7b38ee",
   "metadata": {},
   "outputs": [
    {
     "data": {
      "text/plain": [
       "17"
      ]
     },
     "execution_count": 5,
     "metadata": {},
     "output_type": "execute_result"
    }
   ],
   "source": [
    " (3*4)+5"
   ]
  },
  {
   "cell_type": "markdown",
   "id": "7f5b5180-7246-48d0-a506-67f95bd73fb5",
   "metadata": {},
   "source": [
    "This will convert 200 minutes to hours by dividing 200 by 60"
   ]
  },
  {
   "cell_type": "code",
   "execution_count": 6,
   "id": "98163c51-8440-43fc-a3e7-1df88cbf0e78",
   "metadata": {},
   "outputs": [
    {
     "data": {
      "text/plain": [
       "3.3333333333333335"
      ]
     },
     "execution_count": 6,
     "metadata": {},
     "output_type": "execute_result"
    }
   ],
   "source": [
    " (200/60)"
   ]
  },
  {
   "cell_type": "markdown",
   "id": "abe10e1b-55ea-42a1-a37c-63ea204f8814",
   "metadata": {},
   "source": [
    "## Author"
   ]
  },
  {
   "cell_type": "code",
   "execution_count": null,
   "id": "687ed1b6-f1d9-446e-bf56-9a6ebeb524b1",
   "metadata": {},
   "outputs": [],
   "source": [
    "Ira Paul "
   ]
  }
 ],
 "metadata": {
  "kernelspec": {
   "display_name": "Python 3 (ipykernel)",
   "language": "python",
   "name": "python3"
  },
  "language_info": {
   "codemirror_mode": {
    "name": "ipython",
    "version": 3
   },
   "file_extension": ".py",
   "mimetype": "text/x-python",
   "name": "python",
   "nbconvert_exporter": "python",
   "pygments_lexer": "ipython3",
   "version": "3.11.7"
  }
 },
 "nbformat": 4,
 "nbformat_minor": 5
}
