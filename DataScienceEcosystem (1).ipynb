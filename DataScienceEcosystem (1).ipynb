{
 "cells": [
  {
   "cell_type": "markdown",
   "id": "bb94d7cc-a3f3-4d70-b6aa-1f513e25089e",
   "metadata": {},
   "source": [
    "# Data Science Tools and Ecosystems"
   ]
  },
  {
   "cell_type": "markdown",
   "id": "4cf5fb70-a1d5-4fe6-bbf0-dcd58de7a476",
   "metadata": {},
   "source": [
    "In this notebook, Data Science Tools and Ecosystems are summarized."
   ]
  },
  {
   "cell_type": "markdown",
   "id": "499a3acb-f6b3-48e2-aaec-2a0c894b6181",
   "metadata": {},
   "source": [
    "<b>Objectives:</b>"
   ]
  },
  {
   "cell_type": "markdown",
   "id": "8eb0ca7a-d1e0-4a38-802f-7feecad565f8",
   "metadata": {},
   "source": [
    "+ Practice headings\n",
    "+ List popular languages for Data Science\n",
    "+ List some commonly used libraries that Data Scientist use\n",
    "+ Practice simple math equations"
   ]
  },
  {
   "cell_type": "markdown",
   "id": "b9457f93-0525-4d84-90a4-9f98ca6464be",
   "metadata": {},
   "source": [
    "Some of the most popular languages that Data Scientist use are:\n",
    "1. Python\n",
    "2. R\n",
    "3. Java"
   ]
  },
  {
   "cell_type": "markdown",
   "id": "6b74d990-32fb-419e-be8d-d9c1ef2c63a6",
   "metadata": {},
   "source": [
    "Some of the commonly used libraries used by Data Scientists include:\n",
    "1. Pandas\n",
    "2. Numpy\n",
    "3. Matplotlib"
   ]
  },
  {
   "cell_type": "markdown",
   "id": "fe6b1e28-0b3a-418b-bb6d-811dd476fa2c",
   "metadata": {},
   "source": [
    "| Data Science Tools |\n",
    "| -------- |\n",
    "| Git |\n",
    "| GitHub |\n",
    "| GitLab |"
   ]
  },
  {
   "cell_type": "markdown",
   "id": "c02bbf99-04fe-41d2-b875-6e855914731e",
   "metadata": {},
   "source": [
    "### Below are a few examples of evaluating arithmetic expressions in Python:"
   ]
  },
  {
   "cell_type": "markdown",
   "id": "2c1ab415-79e3-4b72-8764-f39826364e89",
   "metadata": {},
   "source": [
    "This is a simple arthimetic expression to multiply and add integers. "
   ]
  },
  {
   "cell_type": "code",
   "execution_count": 5,
   "id": "797b9db8-10a9-43d5-85f1-53d02a7b38ee",
   "metadata": {},
   "outputs": [
    {
     "data": {
      "text/plain": [
       "17"
      ]
     },
     "execution_count": 5,
     "metadata": {},
     "output_type": "execute_result"
    }
   ],
   "source": [
    " (3*4)+5"
   ]
  },
  {
   "cell_type": "markdown",
   "id": "7f5b5180-7246-48d0-a506-67f95bd73fb5",
   "metadata": {},
   "source": [
    "This will convert 200 minutes to hours by dividing 200 by 60"
   ]
  },
  {
   "cell_type": "code",
   "execution_count": 6,
   "id": "98163c51-8440-43fc-a3e7-1df88cbf0e78",
   "metadata": {},
   "outputs": [
    {
     "data": {
      "text/plain": [
       "3.3333333333333335"
      ]
     },
     "execution_count": 6,
     "metadata": {},
     "output_type": "execute_result"
    }
   ],
   "source": [
    " (200/60)"
   ]
  },
  {
   "cell_type": "markdown",
   "id": "abe10e1b-55ea-42a1-a37c-63ea204f8814",
   "metadata": {},
   "source": [
    "## Author"
   ]
  },
  {
   "cell_type": "code",
   "execution_count": null,
   "id": "687ed1b6-f1d9-446e-bf56-9a6ebeb524b1",
   "metadata": {},
   "outputs": [],
   "source": [
    "Ira Paul "
   ]
  }
 ],
 "metadata": {
  "kernelspec": {
   "display_name": "Python 3 (ipykernel)",
   "language": "python",
   "name": "python3"
  },
  "language_info": {
   "codemirror_mode": {
    "name": "ipython",
    "version": 3
   },
   "file_extension": ".py",
   "mimetype": "text/x-python",
   "name": "python",
   "nbconvert_exporter": "python",
   "pygments_lexer": "ipython3",
   "version": "3.11.7"
  }
 },
 "nbformat": 4,
 "nbformat_minor": 5
}
